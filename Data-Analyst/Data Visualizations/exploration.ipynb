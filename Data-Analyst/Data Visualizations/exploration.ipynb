{
 "cells": [
  {
   "cell_type": "markdown",
   "metadata": {
    "slideshow": {
     "slide_type": "slide"
    }
   },
   "source": [
    "# LA Q2 RideShare Analysis and Visualizations\n",
    "\n",
    "\n",
    "## Introduction\n",
    "\n",
    "I've choose to analyze and breakdown some key curiousity about the Q2 BikeShare information from LA. The link provided in the course material no longer exists so I just changed the location. There were 50,000 plus rides so to decrease run times on my personal laptop I've decided not to combine multiple quarters. I also feel that there is substantial information for me to convey all I've learned. Thank you for that!\n",
    "\n",
    "\n",
    "## Table of Contents\n",
    "1. [Wrangling Info](#Wrangle)\n",
    "2. [Questions and Curiousities](#QC)\n"
   ]
  },
  {
   "cell_type": "code",
   "execution_count": 2,
   "metadata": {
    "slideshow": {
     "slide_type": "skip"
    }
   },
   "outputs": [],
   "source": [
    "#Import libraries/packages\n",
    "import pandas as pd\n",
    "import numpy as np\n",
    "import seaborn as sb\n",
    "import matplotlib.pyplot as plt\n",
    "\n",
    "%matplotlib inline"
   ]
  },
  {
   "cell_type": "markdown",
   "metadata": {
    "slideshow": {
     "slide_type": "slide"
    }
   },
   "source": [
    "<a id=wrangle></a>\n",
    "## Wrangling Info\n",
    "\n",
    "The site to find the downloadable CSV file is located here: [BikeShare](https://bikeshare.metro.net/about/data/)\n",
    "\n",
    "1. Download the .csv file for 2020 Q2 (April-June)\n",
    "2. Upload into Jupyter Notebook\n",
    "3. Read .csv into notebook with pd.read function\n",
    "4. Programmatically better understand the DataFrame\n"
   ]
  },
  {
   "cell_type": "code",
   "execution_count": 3,
   "metadata": {
    "scrolled": true,
    "slideshow": {
     "slide_type": "skip"
    }
   },
   "outputs": [
    {
     "data": {
      "text/html": [
       "<div>\n",
       "<style scoped>\n",
       "    .dataframe tbody tr th:only-of-type {\n",
       "        vertical-align: middle;\n",
       "    }\n",
       "\n",
       "    .dataframe tbody tr th {\n",
       "        vertical-align: top;\n",
       "    }\n",
       "\n",
       "    .dataframe thead th {\n",
       "        text-align: right;\n",
       "    }\n",
       "</style>\n",
       "<table border=\"1\" class=\"dataframe\">\n",
       "  <thead>\n",
       "    <tr style=\"text-align: right;\">\n",
       "      <th></th>\n",
       "      <th>trip_id</th>\n",
       "      <th>duration</th>\n",
       "      <th>start_time</th>\n",
       "      <th>end_time</th>\n",
       "      <th>start_station</th>\n",
       "      <th>start_lat</th>\n",
       "      <th>start_lon</th>\n",
       "      <th>end_station</th>\n",
       "      <th>end_lat</th>\n",
       "      <th>end_lon</th>\n",
       "      <th>bike_id</th>\n",
       "      <th>plan_duration</th>\n",
       "      <th>trip_route_category</th>\n",
       "      <th>passholder_type</th>\n",
       "      <th>bike_type</th>\n",
       "    </tr>\n",
       "  </thead>\n",
       "  <tbody>\n",
       "    <tr>\n",
       "      <th>0</th>\n",
       "      <td>140275793</td>\n",
       "      <td>14</td>\n",
       "      <td>4/1/2020 0:05</td>\n",
       "      <td>4/1/2020 0:19</td>\n",
       "      <td>4491</td>\n",
       "      <td>34.04744</td>\n",
       "      <td>-118.247940</td>\n",
       "      <td>4491</td>\n",
       "      <td>34.047440</td>\n",
       "      <td>-118.247940</td>\n",
       "      <td>19544</td>\n",
       "      <td>30</td>\n",
       "      <td>Round Trip</td>\n",
       "      <td>Monthly Pass</td>\n",
       "      <td>electric</td>\n",
       "    </tr>\n",
       "    <tr>\n",
       "      <th>1</th>\n",
       "      <td>140275993</td>\n",
       "      <td>9</td>\n",
       "      <td>4/1/2020 0:19</td>\n",
       "      <td>4/1/2020 0:28</td>\n",
       "      <td>4491</td>\n",
       "      <td>34.04744</td>\n",
       "      <td>-118.247940</td>\n",
       "      <td>4491</td>\n",
       "      <td>34.047440</td>\n",
       "      <td>-118.247940</td>\n",
       "      <td>19544</td>\n",
       "      <td>30</td>\n",
       "      <td>Round Trip</td>\n",
       "      <td>Monthly Pass</td>\n",
       "      <td>electric</td>\n",
       "    </tr>\n",
       "    <tr>\n",
       "      <th>2</th>\n",
       "      <td>140276293</td>\n",
       "      <td>18</td>\n",
       "      <td>4/1/2020 0:22</td>\n",
       "      <td>4/1/2020 0:40</td>\n",
       "      <td>3076</td>\n",
       "      <td>34.04060</td>\n",
       "      <td>-118.253838</td>\n",
       "      <td>3076</td>\n",
       "      <td>34.040600</td>\n",
       "      <td>-118.253838</td>\n",
       "      <td>18942</td>\n",
       "      <td>30</td>\n",
       "      <td>Round Trip</td>\n",
       "      <td>Monthly Pass</td>\n",
       "      <td>electric</td>\n",
       "    </tr>\n",
       "    <tr>\n",
       "      <th>3</th>\n",
       "      <td>140276793</td>\n",
       "      <td>20</td>\n",
       "      <td>4/1/2020 0:41</td>\n",
       "      <td>4/1/2020 1:01</td>\n",
       "      <td>3076</td>\n",
       "      <td>34.04060</td>\n",
       "      <td>-118.253838</td>\n",
       "      <td>3076</td>\n",
       "      <td>34.040600</td>\n",
       "      <td>-118.253838</td>\n",
       "      <td>18942</td>\n",
       "      <td>30</td>\n",
       "      <td>Round Trip</td>\n",
       "      <td>Monthly Pass</td>\n",
       "      <td>electric</td>\n",
       "    </tr>\n",
       "    <tr>\n",
       "      <th>4</th>\n",
       "      <td>140277293</td>\n",
       "      <td>25</td>\n",
       "      <td>4/1/2020 1:02</td>\n",
       "      <td>4/1/2020 1:27</td>\n",
       "      <td>3076</td>\n",
       "      <td>34.04060</td>\n",
       "      <td>-118.253838</td>\n",
       "      <td>3033</td>\n",
       "      <td>34.040989</td>\n",
       "      <td>-118.255798</td>\n",
       "      <td>18942</td>\n",
       "      <td>30</td>\n",
       "      <td>One Way</td>\n",
       "      <td>Monthly Pass</td>\n",
       "      <td>electric</td>\n",
       "    </tr>\n",
       "  </tbody>\n",
       "</table>\n",
       "</div>"
      ],
      "text/plain": [
       "     trip_id  duration     start_time       end_time  start_station  \\\n",
       "0  140275793        14  4/1/2020 0:05  4/1/2020 0:19           4491   \n",
       "1  140275993         9  4/1/2020 0:19  4/1/2020 0:28           4491   \n",
       "2  140276293        18  4/1/2020 0:22  4/1/2020 0:40           3076   \n",
       "3  140276793        20  4/1/2020 0:41  4/1/2020 1:01           3076   \n",
       "4  140277293        25  4/1/2020 1:02  4/1/2020 1:27           3076   \n",
       "\n",
       "   start_lat   start_lon  end_station    end_lat     end_lon  bike_id  \\\n",
       "0   34.04744 -118.247940         4491  34.047440 -118.247940    19544   \n",
       "1   34.04744 -118.247940         4491  34.047440 -118.247940    19544   \n",
       "2   34.04060 -118.253838         3076  34.040600 -118.253838    18942   \n",
       "3   34.04060 -118.253838         3076  34.040600 -118.253838    18942   \n",
       "4   34.04060 -118.253838         3033  34.040989 -118.255798    18942   \n",
       "\n",
       "   plan_duration trip_route_category passholder_type bike_type  \n",
       "0             30          Round Trip    Monthly Pass  electric  \n",
       "1             30          Round Trip    Monthly Pass  electric  \n",
       "2             30          Round Trip    Monthly Pass  electric  \n",
       "3             30          Round Trip    Monthly Pass  electric  \n",
       "4             30             One Way    Monthly Pass  electric  "
      ]
     },
     "execution_count": 3,
     "metadata": {},
     "output_type": "execute_result"
    }
   ],
   "source": [
    "#Read in .csv file as trips_df\n",
    "trips_df = pd.read_csv('metro-trips-2020-q2 2.csv')\n",
    "trips_df.head()"
   ]
  },
  {
   "cell_type": "markdown",
   "metadata": {
    "slideshow": {
     "slide_type": "skip"
    }
   },
   "source": [
    "Below are some more functions to better understand the layout and structure of the dataset."
   ]
  },
  {
   "cell_type": "code",
   "execution_count": 5,
   "metadata": {
    "slideshow": {
     "slide_type": "skip"
    }
   },
   "outputs": [
    {
     "data": {
      "text/html": [
       "<div>\n",
       "<style scoped>\n",
       "    .dataframe tbody tr th:only-of-type {\n",
       "        vertical-align: middle;\n",
       "    }\n",
       "\n",
       "    .dataframe tbody tr th {\n",
       "        vertical-align: top;\n",
       "    }\n",
       "\n",
       "    .dataframe thead th {\n",
       "        text-align: right;\n",
       "    }\n",
       "</style>\n",
       "<table border=\"1\" class=\"dataframe\">\n",
       "  <thead>\n",
       "    <tr style=\"text-align: right;\">\n",
       "      <th></th>\n",
       "      <th>trip_id</th>\n",
       "      <th>duration</th>\n",
       "      <th>start_station</th>\n",
       "      <th>start_lat</th>\n",
       "      <th>start_lon</th>\n",
       "      <th>end_station</th>\n",
       "      <th>end_lat</th>\n",
       "      <th>end_lon</th>\n",
       "      <th>bike_id</th>\n",
       "      <th>plan_duration</th>\n",
       "    </tr>\n",
       "  </thead>\n",
       "  <tbody>\n",
       "    <tr>\n",
       "      <th>count</th>\n",
       "      <td>5.420200e+04</td>\n",
       "      <td>54202.000000</td>\n",
       "      <td>54202.000000</td>\n",
       "      <td>12234.000000</td>\n",
       "      <td>12234.000000</td>\n",
       "      <td>54202.000000</td>\n",
       "      <td>51881.000000</td>\n",
       "      <td>51881.000000</td>\n",
       "      <td>54202.000000</td>\n",
       "      <td>54202.000000</td>\n",
       "    </tr>\n",
       "    <tr>\n",
       "      <th>mean</th>\n",
       "      <td>1.422277e+08</td>\n",
       "      <td>44.877901</td>\n",
       "      <td>3173.293532</td>\n",
       "      <td>34.048096</td>\n",
       "      <td>-118.294257</td>\n",
       "      <td>3742.290838</td>\n",
       "      <td>34.046763</td>\n",
       "      <td>-118.297073</td>\n",
       "      <td>15197.715343</td>\n",
       "      <td>39.691100</td>\n",
       "    </tr>\n",
       "    <tr>\n",
       "      <th>std</th>\n",
       "      <td>1.077912e+06</td>\n",
       "      <td>136.672240</td>\n",
       "      <td>452.991766</td>\n",
       "      <td>0.032350</td>\n",
       "      <td>0.069030</td>\n",
       "      <td>677.898099</td>\n",
       "      <td>0.032045</td>\n",
       "      <td>0.070583</td>\n",
       "      <td>11021.088032</td>\n",
       "      <td>80.860016</td>\n",
       "    </tr>\n",
       "    <tr>\n",
       "      <th>min</th>\n",
       "      <td>1.402758e+08</td>\n",
       "      <td>1.000000</td>\n",
       "      <td>3000.000000</td>\n",
       "      <td>33.958790</td>\n",
       "      <td>-118.491341</td>\n",
       "      <td>3000.000000</td>\n",
       "      <td>33.958790</td>\n",
       "      <td>-118.491341</td>\n",
       "      <td>5715.000000</td>\n",
       "      <td>1.000000</td>\n",
       "    </tr>\n",
       "    <tr>\n",
       "      <th>25%</th>\n",
       "      <td>1.413774e+08</td>\n",
       "      <td>10.000000</td>\n",
       "      <td>3000.000000</td>\n",
       "      <td>34.039982</td>\n",
       "      <td>-118.292183</td>\n",
       "      <td>3035.000000</td>\n",
       "      <td>34.039871</td>\n",
       "      <td>-118.296799</td>\n",
       "      <td>12283.000000</td>\n",
       "      <td>1.000000</td>\n",
       "    </tr>\n",
       "    <tr>\n",
       "      <th>50%</th>\n",
       "      <td>1.420787e+08</td>\n",
       "      <td>19.000000</td>\n",
       "      <td>3000.000000</td>\n",
       "      <td>34.048401</td>\n",
       "      <td>-118.262733</td>\n",
       "      <td>4249.000000</td>\n",
       "      <td>34.048038</td>\n",
       "      <td>-118.264557</td>\n",
       "      <td>16342.000000</td>\n",
       "      <td>30.000000</td>\n",
       "    </tr>\n",
       "    <tr>\n",
       "      <th>75%</th>\n",
       "      <td>1.431155e+08</td>\n",
       "      <td>31.000000</td>\n",
       "      <td>3000.000000</td>\n",
       "      <td>34.057720</td>\n",
       "      <td>-118.253838</td>\n",
       "      <td>4410.000000</td>\n",
       "      <td>34.057720</td>\n",
       "      <td>-118.254868</td>\n",
       "      <td>18926.000000</td>\n",
       "      <td>30.000000</td>\n",
       "    </tr>\n",
       "    <tr>\n",
       "      <th>max</th>\n",
       "      <td>1.444321e+08</td>\n",
       "      <td>1440.000000</td>\n",
       "      <td>4524.000000</td>\n",
       "      <td>34.186569</td>\n",
       "      <td>-118.231277</td>\n",
       "      <td>4524.000000</td>\n",
       "      <td>34.186569</td>\n",
       "      <td>-118.231277</td>\n",
       "      <td>536682.000000</td>\n",
       "      <td>999.000000</td>\n",
       "    </tr>\n",
       "  </tbody>\n",
       "</table>\n",
       "</div>"
      ],
      "text/plain": [
       "            trip_id      duration  start_station     start_lat     start_lon  \\\n",
       "count  5.420200e+04  54202.000000   54202.000000  12234.000000  12234.000000   \n",
       "mean   1.422277e+08     44.877901    3173.293532     34.048096   -118.294257   \n",
       "std    1.077912e+06    136.672240     452.991766      0.032350      0.069030   \n",
       "min    1.402758e+08      1.000000    3000.000000     33.958790   -118.491341   \n",
       "25%    1.413774e+08     10.000000    3000.000000     34.039982   -118.292183   \n",
       "50%    1.420787e+08     19.000000    3000.000000     34.048401   -118.262733   \n",
       "75%    1.431155e+08     31.000000    3000.000000     34.057720   -118.253838   \n",
       "max    1.444321e+08   1440.000000    4524.000000     34.186569   -118.231277   \n",
       "\n",
       "        end_station       end_lat       end_lon        bike_id  plan_duration  \n",
       "count  54202.000000  51881.000000  51881.000000   54202.000000   54202.000000  \n",
       "mean    3742.290838     34.046763   -118.297073   15197.715343      39.691100  \n",
       "std      677.898099      0.032045      0.070583   11021.088032      80.860016  \n",
       "min     3000.000000     33.958790   -118.491341    5715.000000       1.000000  \n",
       "25%     3035.000000     34.039871   -118.296799   12283.000000       1.000000  \n",
       "50%     4249.000000     34.048038   -118.264557   16342.000000      30.000000  \n",
       "75%     4410.000000     34.057720   -118.254868   18926.000000      30.000000  \n",
       "max     4524.000000     34.186569   -118.231277  536682.000000     999.000000  "
      ]
     },
     "execution_count": 5,
     "metadata": {},
     "output_type": "execute_result"
    }
   ],
   "source": [
    "#Boxplot information\n",
    "trips_df.describe()"
   ]
  },
  {
   "cell_type": "code",
   "execution_count": 8,
   "metadata": {
    "slideshow": {
     "slide_type": "skip"
    }
   },
   "outputs": [
    {
     "name": "stdout",
     "output_type": "stream",
     "text": [
      "<class 'pandas.core.frame.DataFrame'>\n",
      "RangeIndex: 54202 entries, 0 to 54201\n",
      "Data columns (total 15 columns):\n",
      " #   Column               Non-Null Count  Dtype  \n",
      "---  ------               --------------  -----  \n",
      " 0   trip_id              54202 non-null  int64  \n",
      " 1   duration             54202 non-null  int64  \n",
      " 2   start_time           54202 non-null  object \n",
      " 3   end_time             54202 non-null  object \n",
      " 4   start_station        54202 non-null  int64  \n",
      " 5   start_lat            12234 non-null  float64\n",
      " 6   start_lon            12234 non-null  float64\n",
      " 7   end_station          54202 non-null  int64  \n",
      " 8   end_lat              51881 non-null  float64\n",
      " 9   end_lon              51881 non-null  float64\n",
      " 10  bike_id              54202 non-null  int64  \n",
      " 11  plan_duration        54202 non-null  int64  \n",
      " 12  trip_route_category  54202 non-null  object \n",
      " 13  passholder_type      54202 non-null  object \n",
      " 14  bike_type            54202 non-null  object \n",
      "dtypes: float64(4), int64(6), object(5)\n",
      "memory usage: 6.2+ MB\n"
     ]
    }
   ],
   "source": [
    "#Here I can immediately see many missing values from start_lat and start_lon\n",
    "trips_df.info()"
   ]
  },
  {
   "cell_type": "code",
   "execution_count": 31,
   "metadata": {
    "slideshow": {
     "slide_type": "skip"
    }
   },
   "outputs": [
    {
     "data": {
      "text/plain": [
       "array([4286, 4285, 3000])"
      ]
     },
     "execution_count": 31,
     "metadata": {},
     "output_type": "execute_result"
    }
   ],
   "source": [
    "#More of a curiousity than anything. Theory that certain start_stations don't have proper lat or lon\n",
    "trips_df[trips_df.start_lat.isna()].start_station.unique()"
   ]
  },
  {
   "cell_type": "code",
   "execution_count": 30,
   "metadata": {
    "scrolled": false,
    "slideshow": {
     "slide_type": "skip"
    }
   },
   "outputs": [
    {
     "data": {
      "text/plain": [
       "array([4491, 3076, 3033, 4300, 3051, 3005, 3035, 3028, 3078, 3006, 4340,\n",
       "       3068, 3082, 4406, 3034, 3081, 3077, 4420, 4343, 3042, 3062, 4220,\n",
       "       3031, 4401, 4442, 4475, 4456, 3008, 4496, 4275, 4353, 3026, 4273,\n",
       "       3064, 4293, 4476, 4315, 4286, 3049, 4483, 3014, 4470, 3048, 4302,\n",
       "       3066, 4311, 3074, 3075, 4267, 3019, 4447, 4304, 3023, 3032, 3025,\n",
       "       4443, 3029, 3016, 3057, 4328, 4345, 3052, 4490, 4266, 3030, 4444,\n",
       "       4437, 4254, 3007, 4389, 3056, 4455, 3040, 4379, 4385, 4404, 3065,\n",
       "       4301, 4410, 4314, 3018, 4390, 4342, 4425, 3024, 3022, 4405, 4312,\n",
       "       3027, 4469, 4460, 4383, 4484, 4306, 4248, 3067, 4344, 4474, 4452,\n",
       "       4478, 4440, 4354, 4349, 4494, 3069, 4482, 4472, 4285, 4429, 4493,\n",
       "       4341, 3063, 4500, 3047, 4334, 4445, 4329, 4250, 4479, 4323, 4330,\n",
       "       4338, 4322, 3036, 4454, 4393, 4504, 4414, 4441, 4347, 4457, 3054,\n",
       "       3011, 4450, 4446, 4413, 4325, 4397, 3058, 4451, 4422, 3045, 4352,\n",
       "       4332, 4313, 4480, 4439, 4417, 4247, 4426, 4348, 4449, 4331, 4382,\n",
       "       4249, 4448, 4415, 4427, 4227, 4396, 3037, 3046, 4378, 4438, 3079,\n",
       "       4436, 4336, 4418, 4430, 4387, 4350, 3010, 4246, 4416, 4473, 4324,\n",
       "       4245, 4459, 4400, 3000, 4335, 4505, 4461, 4503, 4409, 4431, 4428,\n",
       "       4303, 4346, 4523, 4512, 4458, 4497, 4524, 4372, 4453, 4462, 4502,\n",
       "       4419, 4337, 4333, 4351, 4498, 4381, 4394, 3020, 4499, 4463, 4384,\n",
       "       4380, 4408])"
      ]
     },
     "execution_count": 30,
     "metadata": {},
     "output_type": "execute_result"
    }
   ],
   "source": [
    "trips_df.start_station.unique()"
   ]
  },
  {
   "cell_type": "markdown",
   "metadata": {
    "slideshow": {
     "slide_type": "skip"
    }
   },
   "source": [
    "If I was truely using this information to understand growth opportunites or market avaiablility I would find the lat and lon for those 3 locations but for the purpose of this assignment I won't need those values."
   ]
  },
  {
   "cell_type": "code",
   "execution_count": 97,
   "metadata": {
    "slideshow": {
     "slide_type": "skip"
    }
   },
   "outputs": [
    {
     "data": {
      "text/plain": [
       "<seaborn.axisgrid.PairGrid at 0x12452ad00>"
      ]
     },
     "execution_count": 97,
     "metadata": {},
     "output_type": "execute_result"
    },
    {
     "data": {
      "image/png": "[encoded data removed]",
      "text/plain": [
       "<Figure size 720x720 with 20 Axes>"
      ]
     },
     "metadata": {
      "needs_background": "light"
     },
     "output_type": "display_data"
    }
   ],
   "source": [
    "#Did this for fun. Weren't actually enough quatitative variables for this to make sense. Most are categorical\n",
    "\n",
    "g = sb.PairGrid(data = trips_df, vars = ['duration', 'plan_duration', 'start_station', 'end_station'])\n",
    "g.map_diag(plt.hist)\n",
    "g.map_offdiag(plt.scatter)"
   ]
  },
  {
   "cell_type": "markdown",
   "metadata": {
    "slideshow": {
     "slide_type": "slide"
    }
   },
   "source": [
    "<a id='QC'></a>\n",
    "## Questions and Curiousities\n",
    "\n",
    "**Udacities facaulty original queries:**\n",
    "1. [When are most trips taken during Q2?](#1)\n",
    "2. [How long does the average trip take based on passholder type?](#2)\n",
    "3. [Does the above depend on if a user is a subscriber or customer?](#3)\n",
    "\n",
    "**Personal curiousity:**\n",
    "4. [What is the most popular bike type?](#4)\n",
    "5. [Does bike type have an influence on duration of ride? Total rides?](#5)"
   ]
  },
  {
   "cell_type": "code",
   "execution_count": 98,
   "metadata": {
    "slideshow": {
     "slide_type": "skip"
    }
   },
   "outputs": [
    {
     "data": {
      "text/html": [
       "<div>\n",
       "<style scoped>\n",
       "    .dataframe tbody tr th:only-of-type {\n",
       "        vertical-align: middle;\n",
       "    }\n",
       "\n",
       "    .dataframe tbody tr th {\n",
       "        vertical-align: top;\n",
       "    }\n",
       "\n",
       "    .dataframe thead th {\n",
       "        text-align: right;\n",
       "    }\n",
       "</style>\n",
       "<table border=\"1\" class=\"dataframe\">\n",
       "  <thead>\n",
       "    <tr style=\"text-align: right;\">\n",
       "      <th></th>\n",
       "      <th>trip_id</th>\n",
       "      <th>duration</th>\n",
       "      <th>start_time</th>\n",
       "      <th>end_time</th>\n",
       "      <th>start_station</th>\n",
       "      <th>start_lat</th>\n",
       "      <th>start_lon</th>\n",
       "      <th>end_station</th>\n",
       "      <th>end_lat</th>\n",
       "      <th>end_lon</th>\n",
       "      <th>bike_id</th>\n",
       "      <th>plan_duration</th>\n",
       "      <th>trip_route_category</th>\n",
       "      <th>passholder_type</th>\n",
       "      <th>bike_type</th>\n",
       "      <th>date</th>\n",
       "      <th>month</th>\n",
       "    </tr>\n",
       "  </thead>\n",
       "  <tbody>\n",
       "    <tr>\n",
       "      <th>0</th>\n",
       "      <td>140275793</td>\n",
       "      <td>14</td>\n",
       "      <td>4/1/2020 0:05</td>\n",
       "      <td>4/1/2020 0:19</td>\n",
       "      <td>4491</td>\n",
       "      <td>34.04744</td>\n",
       "      <td>-118.247940</td>\n",
       "      <td>4491</td>\n",
       "      <td>34.047440</td>\n",
       "      <td>-118.247940</td>\n",
       "      <td>19544</td>\n",
       "      <td>30</td>\n",
       "      <td>Round Trip</td>\n",
       "      <td>Monthly Pass</td>\n",
       "      <td>electric</td>\n",
       "      <td>4/1/2020</td>\n",
       "      <td>April</td>\n",
       "    </tr>\n",
       "    <tr>\n",
       "      <th>1</th>\n",
       "      <td>140275993</td>\n",
       "      <td>9</td>\n",
       "      <td>4/1/2020 0:19</td>\n",
       "      <td>4/1/2020 0:28</td>\n",
       "      <td>4491</td>\n",
       "      <td>34.04744</td>\n",
       "      <td>-118.247940</td>\n",
       "      <td>4491</td>\n",
       "      <td>34.047440</td>\n",
       "      <td>-118.247940</td>\n",
       "      <td>19544</td>\n",
       "      <td>30</td>\n",
       "      <td>Round Trip</td>\n",
       "      <td>Monthly Pass</td>\n",
       "      <td>electric</td>\n",
       "      <td>4/1/2020</td>\n",
       "      <td>April</td>\n",
       "    </tr>\n",
       "    <tr>\n",
       "      <th>2</th>\n",
       "      <td>140276293</td>\n",
       "      <td>18</td>\n",
       "      <td>4/1/2020 0:22</td>\n",
       "      <td>4/1/2020 0:40</td>\n",
       "      <td>3076</td>\n",
       "      <td>34.04060</td>\n",
       "      <td>-118.253838</td>\n",
       "      <td>3076</td>\n",
       "      <td>34.040600</td>\n",
       "      <td>-118.253838</td>\n",
       "      <td>18942</td>\n",
       "      <td>30</td>\n",
       "      <td>Round Trip</td>\n",
       "      <td>Monthly Pass</td>\n",
       "      <td>electric</td>\n",
       "      <td>4/1/2020</td>\n",
       "      <td>April</td>\n",
       "    </tr>\n",
       "    <tr>\n",
       "      <th>3</th>\n",
       "      <td>140276793</td>\n",
       "      <td>20</td>\n",
       "      <td>4/1/2020 0:41</td>\n",
       "      <td>4/1/2020 1:01</td>\n",
       "      <td>3076</td>\n",
       "      <td>34.04060</td>\n",
       "      <td>-118.253838</td>\n",
       "      <td>3076</td>\n",
       "      <td>34.040600</td>\n",
       "      <td>-118.253838</td>\n",
       "      <td>18942</td>\n",
       "      <td>30</td>\n",
       "      <td>Round Trip</td>\n",
       "      <td>Monthly Pass</td>\n",
       "      <td>electric</td>\n",
       "      <td>4/1/2020</td>\n",
       "      <td>April</td>\n",
       "    </tr>\n",
       "    <tr>\n",
       "      <th>4</th>\n",
       "      <td>140277293</td>\n",
       "      <td>25</td>\n",
       "      <td>4/1/2020 1:02</td>\n",
       "      <td>4/1/2020 1:27</td>\n",
       "      <td>3076</td>\n",
       "      <td>34.04060</td>\n",
       "      <td>-118.253838</td>\n",
       "      <td>3033</td>\n",
       "      <td>34.040989</td>\n",
       "      <td>-118.255798</td>\n",
       "      <td>18942</td>\n",
       "      <td>30</td>\n",
       "      <td>One Way</td>\n",
       "      <td>Monthly Pass</td>\n",
       "      <td>electric</td>\n",
       "      <td>4/1/2020</td>\n",
       "      <td>April</td>\n",
       "    </tr>\n",
       "  </tbody>\n",
       "</table>\n",
       "</div>"
      ],
      "text/plain": [
       "     trip_id  duration     start_time       end_time  start_station  \\\n",
       "0  140275793        14  4/1/2020 0:05  4/1/2020 0:19           4491   \n",
       "1  140275993         9  4/1/2020 0:19  4/1/2020 0:28           4491   \n",
       "2  140276293        18  4/1/2020 0:22  4/1/2020 0:40           3076   \n",
       "3  140276793        20  4/1/2020 0:41  4/1/2020 1:01           3076   \n",
       "4  140277293        25  4/1/2020 1:02  4/1/2020 1:27           3076   \n",
       "\n",
       "   start_lat   start_lon  end_station    end_lat     end_lon  bike_id  \\\n",
       "0   34.04744 -118.247940         4491  34.047440 -118.247940    19544   \n",
       "1   34.04744 -118.247940         4491  34.047440 -118.247940    19544   \n",
       "2   34.04060 -118.253838         3076  34.040600 -118.253838    18942   \n",
       "3   34.04060 -118.253838         3076  34.040600 -118.253838    18942   \n",
       "4   34.04060 -118.253838         3033  34.040989 -118.255798    18942   \n",
       "\n",
       "   plan_duration trip_route_category passholder_type bike_type      date  \\\n",
       "0             30          Round Trip    Monthly Pass  electric  4/1/2020   \n",
       "1             30          Round Trip    Monthly Pass  electric  4/1/2020   \n",
       "2             30          Round Trip    Monthly Pass  electric  4/1/2020   \n",
       "3             30          Round Trip    Monthly Pass  electric  4/1/2020   \n",
       "4             30             One Way    Monthly Pass  electric  4/1/2020   \n",
       "\n",
       "   month  \n",
       "0  April  \n",
       "1  April  \n",
       "2  April  \n",
       "3  April  \n",
       "4  April  "
      ]
     },
     "execution_count": 98,
     "metadata": {},
     "output_type": "execute_result"
    }
   ],
   "source": [
    "#Closer look at the data layout without having to scroll\n",
    "trips_df.head()"
   ]
  },
  {
   "cell_type": "markdown",
   "metadata": {
    "slideshow": {
     "slide_type": "slide"
    }
   },
   "source": [
    "<a id='1'></a>\n",
    "## Question 1: When are most trips taken during Q2?\n",
    "\n",
    "This will use the start_time information for ploting which is a qualitative variable that I plan to break down into days. Best approach would be find ride counts for each day and plot in a bar chart. \n",
    "\n",
    "Sense there are about 91 days that will crowd the x-axis labels meaning I'll have to update those according. I will also want to create a 'date' column that only contains the mm/dd/yyyy."
   ]
  },
  {
   "cell_type": "code",
   "execution_count": 9,
   "metadata": {
    "slideshow": {
     "slide_type": "skip"
    }
   },
   "outputs": [
    {
     "data": {
      "text/plain": [
       "['4/1/2020']"
      ]
     },
     "execution_count": 9,
     "metadata": {},
     "output_type": "execute_result"
    }
   ],
   "source": [
    "#import regex and test before iterating\n",
    "import re\n",
    "x = re.findall(\"(\\d+/\\d+/\\d+)\", trips_df.loc[1, 'start_time'])\n",
    "x"
   ]
  },
  {
   "cell_type": "code",
   "execution_count": 99,
   "metadata": {
    "scrolled": false,
    "slideshow": {
     "slide_type": "skip"
    }
   },
   "outputs": [
    {
     "data": {
      "text/plain": [
       "0    4/1/2020\n",
       "1    4/1/2020\n",
       "2    4/1/2020\n",
       "3    4/1/2020\n",
       "4    4/1/2020\n",
       "Name: date, dtype: object"
      ]
     },
     "execution_count": 99,
     "metadata": {},
     "output_type": "execute_result"
    }
   ],
   "source": [
    "#Create a date column\n",
    "trips_df['date'] = 'NaN'\n",
    "\n",
    "#Iterate through trips_df and use regex to pull only date out of start_time column\n",
    "for index, row in trips_df.iterrows():\n",
    "    x = re.findall(\"(\\d+/\\d+/\\d+)\", trips_df.loc[index, 'start_time'])\n",
    "    trips_df.loc[index, 'date'] = x\n",
    "\n",
    "#Check column\n",
    "trips_df.date.head()"
   ]
  },
  {
   "cell_type": "code",
   "execution_count": 11,
   "metadata": {
    "slideshow": {
     "slide_type": "skip"
    }
   },
   "outputs": [
    {
     "data": {
      "text/plain": [
       "count         54202\n",
       "unique           91\n",
       "top       5/24/2020\n",
       "freq            916\n",
       "Name: date, dtype: object"
      ]
     },
     "execution_count": 11,
     "metadata": {},
     "output_type": "execute_result"
    }
   ],
   "source": [
    "#Check to clarify day count and optimize bin size\n",
    "trips_df.date.describe()"
   ]
  },
  {
   "cell_type": "code",
   "execution_count": 105,
   "metadata": {
    "scrolled": false,
    "slideshow": {
     "slide_type": "subslide"
    }
   },
   "outputs": [
    {
     "data": {
      "image/png": "[encoded data removed]",
      "text/plain": [
       "<Figure size 432x288 with 1 Axes>"
      ]
     },
     "metadata": {
      "needs_background": "light"
     },
     "output_type": "display_data"
    }
   ],
   "source": [
    "#Plot histogram, clean for representation\n",
    "plt.hist(data=trips_df, x='date',bins=45)\n",
    "plt.xticks(['4/1/2020', '5/1/2020', '6/1/2020', '7/1/2020'], ['April', 'May', 'June', 'July'])\n",
    "plt.title('Q2 BikeShare Usage in LA', size=16)\n",
    "plt.xlabel('Months (1 Bar = 2 Days)', size=12)\n",
    "plt.ylabel('Number of Rides', size=12);"
   ]
  },
  {
   "cell_type": "markdown",
   "metadata": {
    "slideshow": {
     "slide_type": "subslide"
    }
   },
   "source": [
    "### Conclusion\n",
    "\n",
    "There are spikes about 1 weeks time apart making me think that weekend are most popular ride times, espcially weekends in May. Graph also follows a slight increased demand into middle/end of May and then starts a downward trend into end of Jun. \n",
    "\n",
    "Since this is LA, this might have something to do with the heat. Between May and June might have optimal weather for bike rides or possibly a demographic change like schools getting out for the summer and students leaving."
   ]
  },
  {
   "cell_type": "markdown",
   "metadata": {
    "slideshow": {
     "slide_type": "slide"
    }
   },
   "source": [
    "<a id='2'></a>\n",
    "## Question 2: How long does the average trip take based on passholder type?\n",
    "\n",
    "We will want to start by grouping passholder type and finding the mean values for duration. This will allow use to easily create a DataFrame of averages and plot out graphs. We have a qualitative and quantative variable type for a bar chart will fit best. "
   ]
  },
  {
   "cell_type": "code",
   "execution_count": 103,
   "metadata": {
    "scrolled": false,
    "slideshow": {
     "slide_type": "skip"
    }
   },
   "outputs": [
    {
     "data": {
      "text/html": [
       "<div>\n",
       "<style scoped>\n",
       "    .dataframe tbody tr th:only-of-type {\n",
       "        vertical-align: middle;\n",
       "    }\n",
       "\n",
       "    .dataframe tbody tr th {\n",
       "        vertical-align: top;\n",
       "    }\n",
       "\n",
       "    .dataframe thead th {\n",
       "        text-align: right;\n",
       "    }\n",
       "</style>\n",
       "<table border=\"1\" class=\"dataframe\">\n",
       "  <thead>\n",
       "    <tr style=\"text-align: right;\">\n",
       "      <th></th>\n",
       "      <th>passholder_type</th>\n",
       "      <th>average_trip</th>\n",
       "    </tr>\n",
       "  </thead>\n",
       "  <tbody>\n",
       "    <tr>\n",
       "      <th>0</th>\n",
       "      <td>Annual Pass</td>\n",
       "      <td>21.505081</td>\n",
       "    </tr>\n",
       "    <tr>\n",
       "      <th>1</th>\n",
       "      <td>Monthly Pass</td>\n",
       "      <td>24.292063</td>\n",
       "    </tr>\n",
       "    <tr>\n",
       "      <th>2</th>\n",
       "      <td>One Day Pass</td>\n",
       "      <td>109.917679</td>\n",
       "    </tr>\n",
       "    <tr>\n",
       "      <th>3</th>\n",
       "      <td>Testing</td>\n",
       "      <td>42.562500</td>\n",
       "    </tr>\n",
       "    <tr>\n",
       "      <th>4</th>\n",
       "      <td>Walk-up</td>\n",
       "      <td>81.192158</td>\n",
       "    </tr>\n",
       "  </tbody>\n",
       "</table>\n",
       "</div>"
      ],
      "text/plain": [
       "  passholder_type  average_trip\n",
       "0     Annual Pass     21.505081\n",
       "1    Monthly Pass     24.292063\n",
       "2    One Day Pass    109.917679\n",
       "3         Testing     42.562500\n",
       "4         Walk-up     81.192158"
      ]
     },
     "execution_count": 103,
     "metadata": {},
     "output_type": "execute_result"
    }
   ],
   "source": [
    "#Groupby passholder_type and get averages of duration column\n",
    "averages = trips_df.groupby('passholder_type')['duration'].mean()\n",
    "\n",
    "#Convert above to a df in order to graph\n",
    "averages_df = averages.reset_index(name = 'average_trip')\n",
    "averages_df\n"
   ]
  },
  {
   "cell_type": "code",
   "execution_count": 106,
   "metadata": {
    "scrolled": true,
    "slideshow": {
     "slide_type": "subslide"
    }
   },
   "outputs": [
    {
     "data": {
      "image/png": "[encoded data removed]",
      "text/plain": [
       "<Figure size 432x288 with 1 Axes>"
      ]
     },
     "metadata": {
      "needs_background": "light"
     },
     "output_type": "display_data"
    }
   ],
   "source": [
    "#Set unified color and graph average trip compared by passholder type\n",
    "base_color = sb.color_palette()[0]\n",
    "sb.barplot(data=averages_df, x='average_trip', y='passholder_type', color=base_color)\n",
    "\n",
    "#Iterate through values to format and then add to bar\n",
    "for i in range(averages_df.shape[0]):\n",
    "    count = averages_df.average_trip[i]\n",
    "    string = '{:.0f}:{:.0f}'.format(count, (int(str(count - int(count))[2:4])/100)*60) #Has to be a better way!!\n",
    "    plt.text(count+1, i, string, va='center')\n",
    "\n",
    "#Clean up bar chart to make presentable\n",
    "plt.xlabel('Duration (min)', size=13)\n",
    "labels = [0, 20, 40, 60, 80, 100, 120, 140]\n",
    "plt.xticks(labels, [0, 20, 40, 60, 80, 100, 120, '']) #Has to be a better way to extend right side of graph!\n",
    "plt.ylabel('')\n",
    "plt.title('Q2 Average RideShare Duration by Passholder Type', size=16);"
   ]
  },
  {
   "cell_type": "markdown",
   "metadata": {
    "slideshow": {
     "slide_type": "subslide"
    }
   },
   "source": [
    "### Conclusion\n",
    "\n",
    "The average RideShare duration for Annual, Monthly, One Day, Testing and Walk-up passholder types is roughly 22, 24, 110, 43, and 81 minutes respectively. One day passholders have a much higher average ride time which makes complete sense becuase they are only planning to ride that one day. They will want to take full advantage of their ride."
   ]
  },
  {
   "cell_type": "markdown",
   "metadata": {
    "slideshow": {
     "slide_type": "slide"
    }
   },
   "source": [
    "<a id='3'></a>\n",
    "## Question 3: Does the BikeShare usage change based on passholder_type over time?\n",
    "\n",
    "First impression here is I'm going to have to do a clustered bar chart breaking the bars based on passholder. This would mean I'd have to break the timeline into a small number of bins. This would allow the visualization to be easily understandable. Fact that we have Quantitative and 2 Qualitative variables also suggests a clusttered bar chart would work great"
   ]
  },
  {
   "cell_type": "code",
   "execution_count": 107,
   "metadata": {
    "slideshow": {
     "slide_type": "skip"
    }
   },
   "outputs": [
    {
     "data": {
      "text/plain": [
       "array(['April', 'May', 'June'], dtype=object)"
      ]
     },
     "execution_count": 107,
     "metadata": {},
     "output_type": "execute_result"
    }
   ],
   "source": [
    "#Create a column with month\n",
    "trips_df['month'] = 'NaN'\n",
    "\n",
    "for index, row in trips_df.iterrows():\n",
    "    if int(trips_df.loc[index, 'date'][:1]) == 4:\n",
    "        trips_df.loc[index, 'month'] = 'April'\n",
    "    elif int(trips_df.loc[index, 'date'][:1]) == 5:\n",
    "        trips_df.loc[index, 'month'] = 'May'\n",
    "    else:\n",
    "        trips_df.loc[index, 'month'] = 'June'\n",
    "\n",
    "#Check values of month column\n",
    "trips_df.month.unique()"
   ]
  },
  {
   "cell_type": "code",
   "execution_count": 108,
   "metadata": {
    "slideshow": {
     "slide_type": "subslide"
    }
   },
   "outputs": [
    {
     "data": {
      "image/png": "[encoded data removed]",
      "text/plain": [
       "<Figure size 432x288 with 1 Axes>"
      ]
     },
     "metadata": {
      "needs_background": "light"
     },
     "output_type": "display_data"
    }
   ],
   "source": [
    "#Groupby passholder_type and month\n",
    "counts = trips_df.groupby(['passholder_type', 'month'])['duration'].sum()\n",
    "\n",
    "#Convert into a graphable df\n",
    "counts = counts.reset_index(name='total_ride_time')\n",
    "\n",
    "#Order the months \n",
    "month_order = ['April', 'May', 'June']\n",
    "order = pd.api.types.CategoricalDtype(ordered=True, categories=month_order)\n",
    "counts.month = counts.month.astype(order)\n",
    "\n",
    "#Plot and clean\n",
    "sb.barplot(data=counts, x='month', y='total_ride_time', hue='passholder_type')\n",
    "plt.xlabel('')\n",
    "plt.ylabel('Total Ride Times (min)', size=13)\n",
    "plt.title('Q2 RideShare Durations by Passholder Type & Month', size=16);\n",
    "\n"
   ]
  },
  {
   "cell_type": "markdown",
   "metadata": {
    "slideshow": {
     "slide_type": "subslide"
    }
   },
   "source": [
    "### Conclusion\n",
    "\n",
    "Firstly, testing passholder types are a very insignificant part of RideShares profit margin. Maybe there is a opportunity for marketing in that group.\n",
    "\n",
    "Furthermore, every type runs a more or less bell curve during Q2 with the exception of Annual Passholders. Annual members, even though a small group respectively, have increased their total ride durations throughout Q2."
   ]
  },
  {
   "cell_type": "markdown",
   "metadata": {
    "slideshow": {
     "slide_type": "slide"
    }
   },
   "source": [
    "<a id='4'></a>\n",
    "## Question 4: What is the most popular bike type?\n",
    "\n",
    "Very easy visualization here. Best move would be to groupby bike type and take the total counts of each. From there we can reset the index and graph from our new DataFrame. Qualititatie and quantitative variables will make for a nice looking bar chart."
   ]
  },
  {
   "cell_type": "code",
   "execution_count": 109,
   "metadata": {
    "scrolled": false,
    "slideshow": {
     "slide_type": "subslide"
    }
   },
   "outputs": [
    {
     "data": {
      "image/png": "[encoded data removed]",
      "text/plain": [
       "<Figure size 432x288 with 1 Axes>"
      ]
     },
     "metadata": {
      "needs_background": "light"
     },
     "output_type": "display_data"
    }
   ],
   "source": [
    "#Filter df for bike types\n",
    "bike_types = trips_df.groupby('bike_type')['bike_type'].count()\n",
    "\n",
    "#Convert to df from graphing\n",
    "bikes_df = bike_types.reset_index(name = 'count')\n",
    "\n",
    "#Graph counts in barchart\n",
    "base_color = sb.color_palette()[0]\n",
    "sb.barplot(data=bikes_df, x='bike_type', y='count', color=base_color)\n",
    "\n",
    "#Clean up graph\n",
    "plt.xlabel('Bike Type', size=12)\n",
    "plt.title('Most Popular BikeShare Types in LA', size=16)\n",
    "plt.ylabel('');\n"
   ]
  },
  {
   "cell_type": "markdown",
   "metadata": {
    "slideshow": {
     "slide_type": "subslide"
    }
   },
   "source": [
    "### Conclusion\n",
    "The most popular bike type is the electric bike."
   ]
  },
  {
   "cell_type": "markdown",
   "metadata": {
    "slideshow": {
     "slide_type": "slide"
    }
   },
   "source": [
    "<a id='5'></a>\n",
    "## Question 5: Does bike type have an influence on duration of ride? Total rides?\n",
    "\n",
    "Need to build 2 understanding of usage here, the total number of rides and total duration of rides. Each one of these statistics are interesting in different ways. If I'm the owner, I'd want greater duration on none passholder types and less rides and smaller duration for passholders. This is for a variety of reasons but the 2 biggest are depreciation of assests and revenue.\n",
    "\n",
    "Best course of action for both will be groupby(), reset index for new df and then use bar plots."
   ]
  },
  {
   "cell_type": "code",
   "execution_count": 110,
   "metadata": {
    "scrolled": false,
    "slideshow": {
     "slide_type": "subslide"
    }
   },
   "outputs": [
    {
     "data": {
      "image/png": "[encoded data removed]",
      "text/plain": [
       "<Figure size 432x288 with 1 Axes>"
      ]
     },
     "metadata": {
      "needs_background": "light"
     },
     "output_type": "display_data"
    }
   ],
   "source": [
    "#Create df for total durations based on bike type\n",
    "duration = trips_df.groupby('bike_type')['duration'].sum()\n",
    "duration = duration.reset_index(name='total_duration')\n",
    "\n",
    "#Create df for total rides based on bike type\n",
    "count = trips_df.groupby('bike_type')['duration'].count()\n",
    "count = count.reset_index(name='total_rides')\n",
    "\n",
    "#Graph and clean\n",
    "base_color = sb.color_palette()[0]\n",
    "\n",
    "sb.barplot(data=duration, x='bike_type', y='total_duration', color=base_color)\n",
    "plt.yticks([0, 200000, 400000, 600000, 800000, 1000000], [0, '200k', '400k', '600k', '800k', '1MM'])\n",
    "plt.title('Q2 Total BikeShare Ride Time by Bike Type', size=16)\n",
    "plt.ylabel('Duration (min)', size=12)\n",
    "plt.xlabel('Bike Types', size=12);"
   ]
  },
  {
   "cell_type": "markdown",
   "metadata": {
    "slideshow": {
     "slide_type": "skip"
    }
   },
   "source": [
    "Orginally, I had these plots side by side using subplot() but sense the yticks are of different scales it makes more sense to have them seperate."
   ]
  },
  {
   "cell_type": "code",
   "execution_count": 94,
   "metadata": {
    "slideshow": {
     "slide_type": "subslide"
    }
   },
   "outputs": [
    {
     "data": {
      "text/plain": [
       "Text(0.5, 0, 'Bike Types')"
      ]
     },
     "execution_count": 94,
     "metadata": {},
     "output_type": "execute_result"
    },
    {
     "data": {
      "image/png": "[encoded data removed]",
      "text/plain": [
       "<Figure size 432x288 with 1 Axes>"
      ]
     },
     "metadata": {
      "needs_background": "light"
     },
     "output_type": "display_data"
    }
   ],
   "source": [
    "#Plot total ride graph, clean\n",
    "sb.barplot(data=count, x='bike_type', y='total_rides', color=base_color)\n",
    "plt.title('Q2 Total BikeShare Rides by Bike Type', size=16)\n",
    "plt.ylabel('')\n",
    "plt.xlabel('Bike Types', size=12)"
   ]
  },
  {
   "cell_type": "markdown",
   "metadata": {
    "slideshow": {
     "slide_type": "subslide"
    }
   },
   "source": [
    "### Conclusion\n",
    "\n",
    "I actually find my results very interesting. It seems that the electric bike is the most common but the standard bike has the longest ride duration by ~300K mins meaning that the average ride for standard much be much higher. Could this be a signal to the type of people who choose one over that other?"
   ]
  },
  {
   "cell_type": "code",
   "execution_count": null,
   "metadata": {},
   "outputs": [],
   "source": []
  }
 ],
 "metadata": {
  "celltoolbar": "Slideshow",
  "kernelspec": {
   "display_name": "Python 3",
   "language": "python",
   "name": "python3"
  },
  "language_info": {
   "codemirror_mode": {
    "name": "ipython",
    "version": 3
   },
   "file_extension": ".py",
   "mimetype": "text/x-python",
   "name": "python",
   "nbconvert_exporter": "python",
   "pygments_lexer": "ipython3",
   "version": "3.8.3"
  }
 },
 "nbformat": 4,
 "nbformat_minor": 4
}
